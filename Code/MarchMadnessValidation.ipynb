{
 "cells": [
  {
   "cell_type": "code",
   "execution_count": 3,
   "metadata": {},
   "outputs": [],
   "source": [
    "import missingno as msno\n",
    "import numpy as np\n",
    "from scipy.stats import shapiro\n",
    "import pandas as pd\n",
    "import matplotlib.pyplot as plt\n",
    "import seaborn as sns\n",
    "import xgboost as xgb\n",
    "from sklearn.model_selection import train_test_split\n",
    "from sklearn.preprocessing import StandardScaler"
   ]
  },
  {
   "cell_type": "code",
   "execution_count": 4,
   "metadata": {},
   "outputs": [],
   "source": [
    "Mteam_df = pd.read_csv('/home/pysparkdevcontainer/code/data/march-machine-learning-mania-2025/MTeams.csv')\n",
    "Wteam_df = pd.read_csv('/home/pysparkdevcontainer/code/data/march-machine-learning-mania-2025/WTeams.csv')\n",
    "submission_df = pd.read_csv('/home/pysparkdevcontainer/code/Fundaments/FinalSubmissionMarchMadness.csv')"
   ]
  },
  {
   "cell_type": "code",
   "execution_count": 5,
   "metadata": {},
   "outputs": [
    {
     "data": {
      "text/html": [
       "<div>\n",
       "<style scoped>\n",
       "    .dataframe tbody tr th:only-of-type {\n",
       "        vertical-align: middle;\n",
       "    }\n",
       "\n",
       "    .dataframe tbody tr th {\n",
       "        vertical-align: top;\n",
       "    }\n",
       "\n",
       "    .dataframe thead th {\n",
       "        text-align: right;\n",
       "    }\n",
       "</style>\n",
       "<table border=\"1\" class=\"dataframe\">\n",
       "  <thead>\n",
       "    <tr style=\"text-align: right;\">\n",
       "      <th></th>\n",
       "      <th>TeamID</th>\n",
       "      <th>TeamName</th>\n",
       "      <th>FirstD1Season</th>\n",
       "      <th>LastD1Season</th>\n",
       "    </tr>\n",
       "  </thead>\n",
       "  <tbody>\n",
       "    <tr>\n",
       "      <th>0</th>\n",
       "      <td>1101</td>\n",
       "      <td>Abilene Chr</td>\n",
       "      <td>2014.0</td>\n",
       "      <td>2025.0</td>\n",
       "    </tr>\n",
       "    <tr>\n",
       "      <th>1</th>\n",
       "      <td>1102</td>\n",
       "      <td>Air Force</td>\n",
       "      <td>1985.0</td>\n",
       "      <td>2025.0</td>\n",
       "    </tr>\n",
       "    <tr>\n",
       "      <th>2</th>\n",
       "      <td>1103</td>\n",
       "      <td>Akron</td>\n",
       "      <td>1985.0</td>\n",
       "      <td>2025.0</td>\n",
       "    </tr>\n",
       "    <tr>\n",
       "      <th>3</th>\n",
       "      <td>1104</td>\n",
       "      <td>Alabama</td>\n",
       "      <td>1985.0</td>\n",
       "      <td>2025.0</td>\n",
       "    </tr>\n",
       "    <tr>\n",
       "      <th>4</th>\n",
       "      <td>1105</td>\n",
       "      <td>Alabama A&amp;M</td>\n",
       "      <td>2000.0</td>\n",
       "      <td>2025.0</td>\n",
       "    </tr>\n",
       "    <tr>\n",
       "      <th>...</th>\n",
       "      <td>...</td>\n",
       "      <td>...</td>\n",
       "      <td>...</td>\n",
       "      <td>...</td>\n",
       "    </tr>\n",
       "    <tr>\n",
       "      <th>373</th>\n",
       "      <td>3476</td>\n",
       "      <td>Stonehill</td>\n",
       "      <td>NaN</td>\n",
       "      <td>NaN</td>\n",
       "    </tr>\n",
       "    <tr>\n",
       "      <th>374</th>\n",
       "      <td>3477</td>\n",
       "      <td>East Texas A&amp;M</td>\n",
       "      <td>NaN</td>\n",
       "      <td>NaN</td>\n",
       "    </tr>\n",
       "    <tr>\n",
       "      <th>375</th>\n",
       "      <td>3478</td>\n",
       "      <td>Le Moyne</td>\n",
       "      <td>NaN</td>\n",
       "      <td>NaN</td>\n",
       "    </tr>\n",
       "    <tr>\n",
       "      <th>376</th>\n",
       "      <td>3479</td>\n",
       "      <td>Mercyhurst</td>\n",
       "      <td>NaN</td>\n",
       "      <td>NaN</td>\n",
       "    </tr>\n",
       "    <tr>\n",
       "      <th>377</th>\n",
       "      <td>3480</td>\n",
       "      <td>West Georgia</td>\n",
       "      <td>NaN</td>\n",
       "      <td>NaN</td>\n",
       "    </tr>\n",
       "  </tbody>\n",
       "</table>\n",
       "<p>758 rows × 4 columns</p>\n",
       "</div>"
      ],
      "text/plain": [
       "     TeamID        TeamName  FirstD1Season  LastD1Season\n",
       "0      1101     Abilene Chr         2014.0        2025.0\n",
       "1      1102       Air Force         1985.0        2025.0\n",
       "2      1103           Akron         1985.0        2025.0\n",
       "3      1104         Alabama         1985.0        2025.0\n",
       "4      1105     Alabama A&M         2000.0        2025.0\n",
       "..      ...             ...            ...           ...\n",
       "373    3476       Stonehill            NaN           NaN\n",
       "374    3477  East Texas A&M            NaN           NaN\n",
       "375    3478        Le Moyne            NaN           NaN\n",
       "376    3479      Mercyhurst            NaN           NaN\n",
       "377    3480    West Georgia            NaN           NaN\n",
       "\n",
       "[758 rows x 4 columns]"
      ]
     },
     "execution_count": 5,
     "metadata": {},
     "output_type": "execute_result"
    }
   ],
   "source": [
    "team_df = pd.concat([Mteam_df, Wteam_df])\n",
    "team_df"
   ]
  },
  {
   "cell_type": "code",
   "execution_count": 12,
   "metadata": {},
   "outputs": [
    {
     "data": {
      "text/html": [
       "<div>\n",
       "<style scoped>\n",
       "    .dataframe tbody tr th:only-of-type {\n",
       "        vertical-align: middle;\n",
       "    }\n",
       "\n",
       "    .dataframe tbody tr th {\n",
       "        vertical-align: top;\n",
       "    }\n",
       "\n",
       "    .dataframe thead th {\n",
       "        text-align: right;\n",
       "    }\n",
       "</style>\n",
       "<table border=\"1\" class=\"dataframe\">\n",
       "  <thead>\n",
       "    <tr style=\"text-align: right;\">\n",
       "      <th></th>\n",
       "      <th>TeamID</th>\n",
       "      <th>TeamName</th>\n",
       "      <th>FirstD1Season</th>\n",
       "      <th>LastD1Season</th>\n",
       "    </tr>\n",
       "  </thead>\n",
       "  <tbody>\n",
       "    <tr>\n",
       "      <th>316</th>\n",
       "      <td>1417</td>\n",
       "      <td>UCLA</td>\n",
       "      <td>1985.0</td>\n",
       "      <td>2025.0</td>\n",
       "    </tr>\n",
       "    <tr>\n",
       "      <th>315</th>\n",
       "      <td>3417</td>\n",
       "      <td>UCLA</td>\n",
       "      <td>NaN</td>\n",
       "      <td>NaN</td>\n",
       "    </tr>\n",
       "  </tbody>\n",
       "</table>\n",
       "</div>"
      ],
      "text/plain": [
       "     TeamID TeamName  FirstD1Season  LastD1Season\n",
       "316    1417     UCLA         1985.0        2025.0\n",
       "315    3417     UCLA            NaN           NaN"
      ]
     },
     "execution_count": 12,
     "metadata": {},
     "output_type": "execute_result"
    }
   ],
   "source": [
    "team = team_df[team_df['TeamName'].str.contains('UCLA')]\n",
    "team"
   ]
  },
  {
   "cell_type": "code",
   "execution_count": 7,
   "metadata": {},
   "outputs": [
    {
     "data": {
      "text/plain": [
       "3384"
      ]
     },
     "execution_count": 7,
     "metadata": {},
     "output_type": "execute_result"
    }
   ],
   "source": [
    "team_df[team_df['TeamName'] == 'St Francis PA']['TeamID'].values[1]"
   ]
  },
  {
   "cell_type": "code",
   "execution_count": 8,
   "metadata": {},
   "outputs": [],
   "source": [
    "def find_team_id(df, team1, team2, gender='W'):\n",
    "    TeamName1 = team1\n",
    "    TeamName2 = team2\n",
    "    if gender == 'W':\n",
    "        team1 = df[df['TeamName'] == team1]['TeamID'].values[1]\n",
    "        team2 = df[df['TeamName'] == team2]['TeamID'].values[1]\n",
    "    else:\n",
    "        team1 = df[df['TeamName'] == team1]['TeamID'].values[0]\n",
    "        team2 = df[df['TeamName'] == team2]['TeamID'].values[0]\n",
    "        print(team1, team2)\n",
    "    if team1 > team2:\n",
    "        pred_df =  submission_df[submission_df['ID'] == f'2025_{team2}_{team1}']\n",
    "        percentage = pred_df['Pred'].values[0]\n",
    "        print(f'{TeamName1} has a {(1 - percentage) * 100}% chance of winning against {TeamName2}')\n",
    "    else:\n",
    "        pred_df = submission_df[submission_df['ID'] == f'2025_{team1}_{team2}']\n",
    "        percentage = pred_df['Pred'].values[0]\n",
    "        print(f'{TeamName1} has a {percentage * 100}% chance of winning against {TeamName2}')"
   ]
  },
  {
   "cell_type": "code",
   "execution_count": 14,
   "metadata": {},
   "outputs": [
    {
     "name": "stdout",
     "output_type": "stream",
     "text": [
      "LSU has a 44.008204% chance of winning against South Carolina\n"
     ]
    }
   ],
   "source": [
    "prediction = find_team_id(team_df, 'LSU', 'South Carolina', 'W') \n",
    "prediction"
   ]
  },
  {
   "cell_type": "code",
   "execution_count": null,
   "metadata": {},
   "outputs": [],
   "source": []
  }
 ],
 "metadata": {
  "kernelspec": {
   "display_name": "vscode_pyspark",
   "language": "python",
   "name": "vscode_pyspark"
  },
  "language_info": {
   "codemirror_mode": {
    "name": "ipython",
    "version": 3
   },
   "file_extension": ".py",
   "mimetype": "text/x-python",
   "name": "python",
   "nbconvert_exporter": "python",
   "pygments_lexer": "ipython3",
   "version": "3.11.7"
  }
 },
 "nbformat": 4,
 "nbformat_minor": 2
}
