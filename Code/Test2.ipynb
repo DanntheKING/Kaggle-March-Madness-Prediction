{
 "cells": [
  {
   "cell_type": "code",
   "execution_count": null,
   "metadata": {},
   "outputs": [
    {
     "name": "stderr",
     "output_type": "stream",
     "text": [
      "/tmp/ipykernel_603/2075794689.py:33: SettingWithCopyWarning: \n",
      "A value is trying to be set on a copy of a slice from a DataFrame.\n",
      "Try using .loc[row_indexer,col_indexer] = value instead\n",
      "\n",
      "See the caveats in the documentation: https://pandas.pydata.org/pandas-docs/stable/user_guide/indexing.html#returning-a-view-versus-a-copy\n",
      "  match_results['Winner'] = 1\n",
      "/tmp/ipykernel_603/2075794689.py:33: SettingWithCopyWarning: \n",
      "A value is trying to be set on a copy of a slice from a DataFrame.\n",
      "Try using .loc[row_indexer,col_indexer] = value instead\n",
      "\n",
      "See the caveats in the documentation: https://pandas.pydata.org/pandas-docs/stable/user_guide/indexing.html#returning-a-view-versus-a-copy\n",
      "  match_results['Winner'] = 1\n"
     ]
    },
    {
     "name": "stdout",
     "output_type": "stream",
     "text": [
      "Brier Score: 0.1727726203820053\n"
     ]
    }
   ],
   "source": [
    "import numpy as np\n",
    "import pandas as pd\n",
    "from sklearn.model_selection import train_test_split\n",
    "from sklearn.linear_model import LogisticRegression\n",
    "from sklearn.metrics import brier_score_loss\n",
    "\n",
    "# Load Data\n",
    "men_seed_df = pd.read_csv('/app/MarchMadness/Kaggle-March-Madness-Prediction/Data/march-machine-learning-mania-2025/MNCAATourneySeeds.csv')\n",
    "men_match_results = pd.read_csv('/app/MarchMadness/Kaggle-March-Madness-Prediction/Data/march-machine-learning-mania-2025/MNCAATourneyCompactResults.csv')\n",
    "women_seed_df = pd.read_csv('/app/MarchMadness/Kaggle-March-Madness-Prediction/Data/march-machine-learning-mania-2025/WNCAATourneySeeds.csv')\n",
    "women_match_results = pd.read_csv('/app/MarchMadness/Kaggle-March-Madness-Prediction/Data/march-machine-learning-mania-2025/WNCAATourneyCompactResults.csv')\n",
    "submission_df = pd.read_csv('/app/MarchMadness/Kaggle-March-Madness-Prediction/Data/march-machine-learning-mania-2025/SampleSubmissionStage1.csv')\n",
    "\n",
    "def extract_game_info(id_str):\n",
    "    parts = id_str.split('_')\n",
    "    return int(parts[0]), int(parts[1]), int(parts[2])\n",
    "\n",
    "def extract_seed_value(seed_str):\n",
    "    try:\n",
    "        return int(seed_str[1:])\n",
    "    except ValueError:\n",
    "        return 16\n",
    "\n",
    "# Prepare Seed Data\n",
    "for seed_df in [men_seed_df, women_seed_df]:\n",
    "    seed_df['SeedValue'] = seed_df['Seed'].apply(extract_seed_value)\n",
    "\n",
    "# Combine Men and Women Seed Data\n",
    "total_seed_df = pd.concat([men_seed_df, women_seed_df], ignore_index=True)\n",
    "\n",
    "def prepare_data(seed_df, match_results):\n",
    "    match_results = match_results[['Season', 'WTeamID', 'LTeamID']]\n",
    "    match_results['Winner'] = 1\n",
    "    inverse_results = match_results.rename(columns={'WTeamID': 'LTeamID', 'LTeamID': 'WTeamID'}).copy()\n",
    "    inverse_results['Winner'] = 0\n",
    "    match_results = pd.concat([match_results, inverse_results], ignore_index=True)\n",
    "    match_results = match_results.merge(seed_df[['Season', 'TeamID', 'SeedValue']], \n",
    "                                        left_on=['Season', 'WTeamID'], right_on=['Season', 'TeamID'])\n",
    "    match_results = match_results.rename(columns={'SeedValue': 'SeedValue1'}).drop(columns=['TeamID'])\n",
    "    match_results = match_results.merge(seed_df[['Season', 'TeamID', 'SeedValue']], \n",
    "                                        left_on=['Season', 'LTeamID'], right_on=['Season', 'TeamID'])\n",
    "    match_results = match_results.rename(columns={'SeedValue': 'SeedValue2'}).drop(columns=['TeamID'])\n",
    "    match_results['SeedDiff'] = match_results['SeedValue1'] - match_results['SeedValue2']\n",
    "    return match_results\n",
    "\n",
    "men_data = prepare_data(men_seed_df, men_match_results)\n",
    "women_data = prepare_data(women_seed_df, women_match_results)\n",
    "combined_data = pd.concat([men_data, women_data], ignore_index=True)\n",
    "\n",
    "X = combined_data[['SeedDiff']]\n",
    "y = combined_data['Winner']\n",
    "X_train, X_test, y_train, y_test = train_test_split(X, y, test_size=0.2, random_state=42)\n",
    "model = LogisticRegression()\n",
    "model.fit(X_train, y_train)\n",
    "y_pred = model.predict_proba(X_test)[:, 1]\n",
    "brier_score = brier_score_loss(y_test, y_pred)\n",
    "print(f'Brier Score: {brier_score}')\n",
    "\n",
    "# Prepare Submission Data\n",
    "submission_df[['Season', 'TeamID1', 'TeamID2']] = submission_df['ID'].apply(extract_game_info).tolist()\n",
    "submission_df = submission_df.merge(total_seed_df[['Season', 'TeamID', 'SeedValue']], left_on=['Season', 'TeamID1'], right_on=['Season', 'TeamID'], how='left')\n",
    "submission_df = submission_df.rename(columns={'SeedValue': 'SeedValue1'}).drop(columns=['TeamID'])\n",
    "submission_df = submission_df.merge(total_seed_df[['Season', 'TeamID', 'SeedValue']], left_on=['Season', 'TeamID2'], right_on=['Season', 'TeamID'], how='left')\n",
    "submission_df = submission_df.rename(columns={'SeedValue': 'SeedValue2'}).drop(columns=['TeamID'])\n",
    "submission_df[['SeedValue1', 'SeedValue2']] = submission_df[['SeedValue1', 'SeedValue2']].fillna(16)\n",
    "submission_df['SeedDiff'] = submission_df['SeedValue1'] - submission_df['SeedValue2']\n",
    "submission_df['Pred'] = model.predict_proba(submission_df[['SeedDiff']])[:, 1]\n",
    "submission_df['Pred'] = submission_df['Pred'].clip(0.05, 0.95)\n",
    "submission_df[['ID', 'Pred']].to_csv('/app/MarchMadness/Kaggle-March-Madness-Prediction/SubmissionPredictions/submission.csv', index=False)\n"
   ]
  }
 ],
 "metadata": {
  "kernelspec": {
   "display_name": "Python 3",
   "language": "python",
   "name": "python3"
  },
  "language_info": {
   "codemirror_mode": {
    "name": "ipython",
    "version": 3
   },
   "file_extension": ".py",
   "mimetype": "text/x-python",
   "name": "python",
   "nbconvert_exporter": "python",
   "pygments_lexer": "ipython3",
   "version": "3.10.12"
  }
 },
 "nbformat": 4,
 "nbformat_minor": 2
}
